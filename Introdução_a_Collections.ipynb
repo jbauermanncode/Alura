{
  "nbformat": 4,
  "nbformat_minor": 0,
  "metadata": {
    "colab": {
      "name": "Introdução a Collections",
      "provenance": [],
      "authorship_tag": "ABX9TyN5qkVmaHXaLT3LExiG4B0C",
      "include_colab_link": true
    },
    "kernelspec": {
      "name": "python3",
      "display_name": "Python 3"
    },
    "language_info": {
      "name": "python"
    }
  },
  "cells": [
    {
      "cell_type": "markdown",
      "metadata": {
        "id": "view-in-github",
        "colab_type": "text"
      },
      "source": [
        "<a href=\"https://colab.research.google.com/github/jbauermanncode/Alura/blob/main/Introdu%C3%A7%C3%A3o_a_Collections.ipynb\" target=\"_parent\"><img src=\"https://colab.research.google.com/assets/colab-badge.svg\" alt=\"Open In Colab\"/></a>"
      ]
    },
    {
      "cell_type": "code",
      "metadata": {
        "colab": {
          "base_uri": "https://localhost:8080/"
        },
        "id": "SV_Jd9KqkanI",
        "outputId": "385d45a0-63e3-4c37-ee8b-1a204a3d1dcf"
      },
      "source": [
        "idade1 = 39\n",
        "idade2 = 30\n",
        "idade3 = 27\n",
        "idade4 = 18\n",
        "\n",
        "print(idade1)\n",
        "print(idade2)\n",
        "print(idade3)\n",
        "print(idade4)"
      ],
      "execution_count": 2,
      "outputs": [
        {
          "output_type": "stream",
          "text": [
            "39\n",
            "30\n",
            "27\n",
            "18\n"
          ],
          "name": "stdout"
        }
      ]
    },
    {
      "cell_type": "code",
      "metadata": {
        "id": "cO4yellslD70"
      },
      "source": [
        "idades = [39, 30, 27]"
      ],
      "execution_count": 3,
      "outputs": []
    },
    {
      "cell_type": "code",
      "metadata": {
        "colab": {
          "base_uri": "https://localhost:8080/"
        },
        "id": "TY-G_bP6ld4u",
        "outputId": "b2272e27-b72e-4b67-c50c-7e7245267dae"
      },
      "source": [
        "type(idades)"
      ],
      "execution_count": 4,
      "outputs": [
        {
          "output_type": "execute_result",
          "data": {
            "text/plain": [
              "list"
            ]
          },
          "metadata": {
            "tags": []
          },
          "execution_count": 4
        }
      ]
    },
    {
      "cell_type": "code",
      "metadata": {
        "colab": {
          "base_uri": "https://localhost:8080/"
        },
        "id": "N5VcXEl6lgfX",
        "outputId": "efaaaed4-4080-4524-c57a-47ec0d07216b"
      },
      "source": [
        "idades.insert(0, 20)  \n",
        "idades"
      ],
      "execution_count": 5,
      "outputs": [
        {
          "output_type": "execute_result",
          "data": {
            "text/plain": [
              "[20, 39, 30, 27]"
            ]
          },
          "metadata": {
            "tags": []
          },
          "execution_count": 5
        }
      ]
    },
    {
      "cell_type": "code",
      "metadata": {
        "colab": {
          "base_uri": "https://localhost:8080/"
        },
        "id": "D0QnxvnuzGVx",
        "outputId": "9ebc8996-477e-4e62-db54-b0a5a5bcbc51"
      },
      "source": [
        "idades.insert(2, 18)\n",
        "idades"
      ],
      "execution_count": 6,
      "outputs": [
        {
          "output_type": "execute_result",
          "data": {
            "text/plain": [
              "[20, 39, 18, 30, 27]"
            ]
          },
          "metadata": {
            "tags": []
          },
          "execution_count": 6
        }
      ]
    },
    {
      "cell_type": "code",
      "metadata": {
        "colab": {
          "base_uri": "https://localhost:8080/"
        },
        "id": "9rB1EgzdzQqo",
        "outputId": "552864f1-45ad-46c7-f242-0972f99fa60f"
      },
      "source": [
        "idades.append(19)\n",
        "idades"
      ],
      "execution_count": 7,
      "outputs": [
        {
          "output_type": "execute_result",
          "data": {
            "text/plain": [
              "[20, 39, 18, 30, 27, 19]"
            ]
          },
          "metadata": {
            "tags": []
          },
          "execution_count": 7
        }
      ]
    },
    {
      "cell_type": "code",
      "metadata": {
        "colab": {
          "base_uri": "https://localhost:8080/"
        },
        "id": "1HJh6GSAzXTu",
        "outputId": "5247131c-2734-4e5c-fee6-6c99cf2b96aa"
      },
      "source": [
        "idades = [20, 39, 18]\n",
        "idades"
      ],
      "execution_count": 8,
      "outputs": [
        {
          "output_type": "execute_result",
          "data": {
            "text/plain": [
              "[20, 39, 18]"
            ]
          },
          "metadata": {
            "tags": []
          },
          "execution_count": 8
        }
      ]
    },
    {
      "cell_type": "code",
      "metadata": {
        "colab": {
          "base_uri": "https://localhost:8080/"
        },
        "id": "ViksUy-20PVG",
        "outputId": "933ffd6b-b2b8-4423-8b0e-e4232d7fdc77"
      },
      "source": [
        "idades.append([27, 19])\n",
        "idades"
      ],
      "execution_count": 9,
      "outputs": [
        {
          "output_type": "execute_result",
          "data": {
            "text/plain": [
              "[20, 39, 18, [27, 19]]"
            ]
          },
          "metadata": {
            "tags": []
          },
          "execution_count": 9
        }
      ]
    },
    {
      "cell_type": "code",
      "metadata": {
        "colab": {
          "base_uri": "https://localhost:8080/"
        },
        "id": "U6kNIpz00Vus",
        "outputId": "08293947-1b78-41f4-d857-21b97c97bc35"
      },
      "source": [
        "for elemento in idades:\n",
        "  print('Recebi o elemento', elemento)"
      ],
      "execution_count": 11,
      "outputs": [
        {
          "output_type": "stream",
          "text": [
            "Recebi o elemento 20\n",
            "Recebi o elemento 39\n",
            "Recebi o elemento 18\n",
            "Recebi o elemento [27, 19]\n"
          ],
          "name": "stdout"
        }
      ]
    },
    {
      "cell_type": "code",
      "metadata": {
        "colab": {
          "base_uri": "https://localhost:8080/"
        },
        "id": "fJvPQUcE0fn_",
        "outputId": "cd0f8a03-1a4b-4998-9d65-6e57dc2cff75"
      },
      "source": [
        "idades = [20, 39, 18]\n",
        "idades.extend([27, 19])\n",
        "idades"
      ],
      "execution_count": 13,
      "outputs": [
        {
          "output_type": "execute_result",
          "data": {
            "text/plain": [
              "[20, 39, 18, 27, 19]"
            ]
          },
          "metadata": {
            "tags": []
          },
          "execution_count": 13
        }
      ]
    },
    {
      "cell_type": "code",
      "metadata": {
        "colab": {
          "base_uri": "https://localhost:8080/"
        },
        "id": "RsdTmppk1CJ9",
        "outputId": "0d04e8e3-5d76-42ac-8780-fd2dac6d8e9e"
      },
      "source": [
        "for idade in idades:\n",
        "  print(idade + 1)"
      ],
      "execution_count": 14,
      "outputs": [
        {
          "output_type": "stream",
          "text": [
            "21\n",
            "40\n",
            "19\n",
            "28\n",
            "20\n"
          ],
          "name": "stdout"
        }
      ]
    },
    {
      "cell_type": "code",
      "metadata": {
        "colab": {
          "base_uri": "https://localhost:8080/"
        },
        "id": "qlbCtUuy3BMH",
        "outputId": "bf008176-ee01-4eac-b6d2-b648cf42105d"
      },
      "source": [
        "idades_no_ano_que_vem = []\n",
        "for idade in idades:\n",
        "  idades_no_ano_que_vem.append(idade + 1)\n",
        "idades_no_ano_que_vem"
      ],
      "execution_count": 15,
      "outputs": [
        {
          "output_type": "execute_result",
          "data": {
            "text/plain": [
              "[21, 40, 19, 28, 20]"
            ]
          },
          "metadata": {
            "tags": []
          },
          "execution_count": 15
        }
      ]
    },
    {
      "cell_type": "code",
      "metadata": {
        "colab": {
          "base_uri": "https://localhost:8080/"
        },
        "id": "r_yNgjzk3wAe",
        "outputId": "1343d8be-ad86-452c-ba42-16d5dc0f18e8"
      },
      "source": [
        "idades_no_ano_que_vem = [(idade+1) for idade in idades]\n",
        "idades_no_ano_que_vem"
      ],
      "execution_count": 17,
      "outputs": [
        {
          "output_type": "execute_result",
          "data": {
            "text/plain": [
              "[21, 40, 19, 28, 20]"
            ]
          },
          "metadata": {
            "tags": []
          },
          "execution_count": 17
        }
      ]
    },
    {
      "cell_type": "code",
      "metadata": {
        "colab": {
          "base_uri": "https://localhost:8080/"
        },
        "id": "XWjmqqsg4VSN",
        "outputId": "9fc748a6-ec73-438d-da4c-598c57c72d70"
      },
      "source": [
        "[(idade) for idade in idades if idade > 21]"
      ],
      "execution_count": 18,
      "outputs": [
        {
          "output_type": "execute_result",
          "data": {
            "text/plain": [
              "[39, 27]"
            ]
          },
          "metadata": {
            "tags": []
          },
          "execution_count": 18
        }
      ]
    },
    {
      "cell_type": "code",
      "metadata": {
        "colab": {
          "base_uri": "https://localhost:8080/"
        },
        "id": "vshJBBpw5mcS",
        "outputId": "5814ab0a-13ea-4b23-beb4-71663287143b"
      },
      "source": [
        "idades"
      ],
      "execution_count": 19,
      "outputs": [
        {
          "output_type": "execute_result",
          "data": {
            "text/plain": [
              "[20, 39, 18, 27, 19]"
            ]
          },
          "metadata": {
            "tags": []
          },
          "execution_count": 19
        }
      ]
    },
    {
      "cell_type": "code",
      "metadata": {
        "colab": {
          "base_uri": "https://localhost:8080/"
        },
        "id": "Zr2DGz3M5phM",
        "outputId": "09132fae-e611-4e05-dbaa-3127899a2854"
      },
      "source": [
        "def proximo_ano(idade):\n",
        "  return idade+1\n",
        "\n",
        "[proximo_ano(idade) for idade in idades if idade > 21]"
      ],
      "execution_count": 22,
      "outputs": [
        {
          "output_type": "execute_result",
          "data": {
            "text/plain": [
              "[40, 28]"
            ]
          },
          "metadata": {
            "tags": []
          },
          "execution_count": 22
        }
      ]
    },
    {
      "cell_type": "code",
      "metadata": {
        "id": "PUGl120z6SpL"
      },
      "source": [
        "def faz_processamento_de_vizualizacao(lista):\n",
        "  print(len(lista))\n",
        "  lista.append(13)"
      ],
      "execution_count": 25,
      "outputs": []
    },
    {
      "cell_type": "code",
      "metadata": {
        "colab": {
          "base_uri": "https://localhost:8080/"
        },
        "id": "zT8FW-S373iO",
        "outputId": "813fcf0a-6349-429d-8c37-db7714c03f14"
      },
      "source": [
        "idades = [16, 21, 29, 56,43]\n",
        "faz_processamento_de_vizualizacao(idades)\n",
        "idades"
      ],
      "execution_count": 26,
      "outputs": [
        {
          "output_type": "stream",
          "text": [
            "5\n"
          ],
          "name": "stdout"
        },
        {
          "output_type": "execute_result",
          "data": {
            "text/plain": [
              "[16, 21, 29, 56, 43, 13]"
            ]
          },
          "metadata": {
            "tags": []
          },
          "execution_count": 26
        }
      ]
    },
    {
      "cell_type": "code",
      "metadata": {
        "id": "oNNaqxdo8Eg7"
      },
      "source": [
        ""
      ],
      "execution_count": null,
      "outputs": []
    }
  ]
}